{
 "cells": [
  {
   "cell_type": "markdown",
   "metadata": {},
   "source": [
    "# Peer-graded assignment: my1stNN"
   ]
  },
  {
   "cell_type": "markdown",
   "metadata": {},
   "source": [
    "## Pre-processing"
   ]
  },
  {
   "cell_type": "markdown",
   "metadata": {},
   "source": [
    "### Load dataset, check size, and preview"
   ]
  },
  {
   "cell_type": "code",
   "execution_count": 1,
   "metadata": {},
   "outputs": [
    {
     "name": "stderr",
     "output_type": "stream",
     "text": [
      "Using TensorFlow backend.\n"
     ]
    },
    {
     "name": "stdout",
     "output_type": "stream",
     "text": [
      "(50000, 28, 28) (50000,)\n"
     ]
    },
    {
     "data": {
      "image/png": "[encoded data removed]",
      "text/plain": [
       "<matplotlib.figure.Figure at 0x7f15f641b630>"
      ]
     },
     "metadata": {},
     "output_type": "display_data"
    }
   ],
   "source": [
    "from preprocessed_mnist import load_dataset\n",
    "X_train, y_train, X_val, y_val, X_test, y_test = load_dataset()\n",
    "print(X_train.shape, y_train.shape)\n",
    "import matplotlib.pyplot as plt\n",
    "%matplotlib inline\n",
    "plt.imshow(X_train[0], cmap=\"Greys\");"
   ]
  },
  {
   "cell_type": "markdown",
   "metadata": {},
   "source": [
    "### Import dependecies"
   ]
  },
  {
   "cell_type": "code",
   "execution_count": 2,
   "metadata": {
    "collapsed": true
   },
   "outputs": [],
   "source": [
    "import numpy as np\n",
    "import tensorflow as tf\n",
    "import matplotlib.pyplot as plt"
   ]
  },
  {
   "cell_type": "markdown",
   "metadata": {},
   "source": [
    "### Flatten images to 1D\n",
    "And check that the images stay the same."
   ]
  },
  {
   "cell_type": "code",
   "execution_count": 3,
   "metadata": {},
   "outputs": [
    {
     "data": {
      "text/plain": [
       "<matplotlib.image.AxesImage at 0x7f15e83f44a8>"
      ]
     },
     "execution_count": 3,
     "metadata": {},
     "output_type": "execute_result"
    },
    {
     "data": {
      "image/png": "[encoded data removed]",
      "text/plain": [
       "<matplotlib.figure.Figure at 0x7f15e8541630>"
      ]
     },
     "metadata": {},
     "output_type": "display_data"
    }
   ],
   "source": [
    "X_train = X_train.reshape((50000, 28 * 28))\n",
    "X_test = X_test.reshape((10000, 28 * 28))\n",
    "\n",
    "plt.imshow(X_train[0].reshape((28, 28)), cmap=\"Greys\")"
   ]
  },
  {
   "cell_type": "markdown",
   "metadata": {},
   "source": [
    "### One hot encode"
   ]
  },
  {
   "cell_type": "code",
   "execution_count": 4,
   "metadata": {
    "collapsed": true
   },
   "outputs": [],
   "source": [
    "y_train_1hot = np.eye(10)[y_train]\n",
    "y_test_1hot = np.eye(10)[y_test]"
   ]
  },
  {
   "cell_type": "markdown",
   "metadata": {},
   "source": [
    "### Set random seeds for reproducibility"
   ]
  },
  {
   "cell_type": "code",
   "execution_count": 5,
   "metadata": {
    "collapsed": true
   },
   "outputs": [],
   "source": [
    "tf.set_random_seed(42)\n",
    "np.random.seed(60)"
   ]
  },
  {
   "cell_type": "markdown",
   "metadata": {},
   "source": [
    "## Logistic regression model"
   ]
  },
  {
   "cell_type": "code",
   "execution_count": 6,
   "metadata": {
    "collapsed": true
   },
   "outputs": [],
   "source": [
    "X = tf.placeholder(tf.float32, [None, 28 * 28])\n",
    "y = tf.placeholder(tf.float32, [None, 10])\n",
    "\n",
    "weights = tf.Variable(tf.zeros([28 * 28, 10]))\n",
    "biases = tf.Variable(tf.zeros([10]))\n",
    "\n",
    "yhat = tf.nn.softmax(tf.matmul(X, weights) + biases)\n",
    "\n",
    "cost = tf.reduce_mean(-tf.reduce_sum(y * tf.log(yhat), reduction_indices=1))\n",
    "\n",
    "optimizer = tf.train.MomentumOptimizer(0.01, 0.5).minimize(cost, var_list=(weights, biases))\n",
    "\n",
    "init = tf.global_variables_initializer()"
   ]
  },
  {
   "cell_type": "markdown",
   "metadata": {},
   "source": [
    "### Accuracy calculator"
   ]
  },
  {
   "cell_type": "code",
   "execution_count": 7,
   "metadata": {
    "collapsed": true
   },
   "outputs": [],
   "source": [
    "def accuracy(yhat, y):\n",
    "    s = 0\n",
    "    n = y.shape[0]\n",
    "    \n",
    "    for i in range(n):\n",
    "        if np.argmax(yhat[i]) == y[i]:\n",
    "            s += 1\n",
    "    \n",
    "    return s / n"
   ]
  },
  {
   "cell_type": "markdown",
   "metadata": {},
   "source": [
    "### Train logistic regression model"
   ]
  },
  {
   "cell_type": "code",
   "execution_count": 8,
   "metadata": {},
   "outputs": [
    {
     "name": "stderr",
     "output_type": "stream",
     "text": [
      "/opt/conda/lib/python3.6/site-packages/ipykernel/__main__.py:4: VisibleDeprecationWarning: using a non-integer number instead of an integer will result in an error in the future\n",
      "/opt/conda/lib/python3.6/site-packages/ipykernel/__main__.py:5: VisibleDeprecationWarning: using a non-integer number instead of an integer will result in an error in the future\n",
      "/opt/conda/lib/python3.6/site-packages/ipykernel/__main__.py:26: VisibleDeprecationWarning: using a non-integer number instead of an integer will result in an error in the future\n",
      "/opt/conda/lib/python3.6/site-packages/ipykernel/__main__.py:34: VisibleDeprecationWarning: using a non-integer number instead of an integer will result in an error in the future\n"
     ]
    },
    {
     "name": "stdout",
     "output_type": "stream",
     "text": [
      "Iteration 250 Train cost 0.807923 Test cost 0.775189 Train accuracy 0.83916 Test accuracy 0.8516\n",
      "Iteration 500 Train cost 0.617448 Test cost 0.584761 Train accuracy 0.85912 Test accuracy 0.8729\n",
      "Iteration 750 Train cost 0.539996 Test cost 0.508403 Train accuracy 0.86858 Test accuracy 0.8809\n",
      "Iteration 1000 Train cost 0.496176 Test cost 0.46584 Train accuracy 0.87592 Test accuracy 0.8873\n",
      "Iteration 1250 Train cost 0.467258 Test cost 0.437869 Train accuracy 0.88078 Test accuracy 0.8907\n",
      "Iteration 1500 Train cost 0.446392 Test cost 0.417945 Train accuracy 0.88388 Test accuracy 0.8937\n",
      "\n",
      "Final test accuracy 0.8937\n"
     ]
    }
   ],
   "source": [
    "n_iter = 1500\n",
    "batch_size = 500\n",
    "\n",
    "train_costs = np.zeros([n_iter / 50])\n",
    "test_costs = np.zeros([n_iter / 50])\n",
    "\n",
    "with tf.Session() as sess:\n",
    "    sess.run(init)\n",
    "    \n",
    "    for i in range(n_iter):\n",
    "        ind = np.random.choice(X_train.shape[0], batch_size)\n",
    "        \n",
    "        sess.run([optimizer, cost],\n",
    "                feed_dict = {\n",
    "                    X: X_train[ind,:],\n",
    "                    y: y_train_1hot[ind]\n",
    "                })\n",
    "        \n",
    "        if ((i + 1) % 50 == 0):\n",
    "            train_cost = sess.run(cost,\n",
    "                    feed_dict = {\n",
    "                        X: X_train,\n",
    "                        y: y_train_1hot\n",
    "                    })\n",
    "\n",
    "            train_costs[(i - 49) / 50] = train_cost\n",
    "\n",
    "            test_cost = sess.run(cost,\n",
    "                    feed_dict = {\n",
    "                        X: X_test,\n",
    "                        y: y_test_1hot\n",
    "                    })\n",
    "\n",
    "            test_costs[(i - 49) / 50] = test_cost\n",
    "        \n",
    "        if (i + 1) % 250 == 0:\n",
    "            \n",
    "            yhat_train = sess.run(yhat,\n",
    "                           feed_dict = {X: X_train})\n",
    "            \n",
    "            yhat_test = sess.run(yhat,\n",
    "                           feed_dict = {X: X_test})\n",
    "            \n",
    "            acc_train = accuracy(yhat_train, y_train)\n",
    "            acc_test = accuracy(yhat_test, y_test)\n",
    "            \n",
    "            print(\"Iteration\", i + 1,\n",
    "                  \"Train cost\", train_cost,\n",
    "                  \"Test cost\", test_cost,\n",
    "                  \"Train accuracy\", acc_train,\n",
    "                  \"Test accuracy\", acc_test)\n",
    "        \n",
    "    print(\"\")\n",
    "    print(\"Final test accuracy\", acc_test)"
   ]
  },
  {
   "cell_type": "markdown",
   "metadata": {},
   "source": [
    "### Plot costs"
   ]
  },
  {
   "cell_type": "code",
   "execution_count": 9,
   "metadata": {},
   "outputs": [
    {
     "data": {
      "image/png": "[encoded data removed]",
      "text/plain": [
       "<matplotlib.figure.Figure at 0x7f15e82ff9e8>"
      ]
     },
     "metadata": {},
     "output_type": "display_data"
    }
   ],
   "source": [
    "plt.plot(range(50, n_iter + 50, 50), train_costs, label = \"Training cost\")\n",
    "plt.plot(range(50, n_iter + 50, 50), test_costs, label = \"Test cost\")\n",
    "plt.legend()\n",
    "plt.show()"
   ]
  },
  {
   "cell_type": "markdown",
   "metadata": {},
   "source": [
    "## Neural network model"
   ]
  },
  {
   "cell_type": "code",
   "execution_count": 10,
   "metadata": {
    "collapsed": true
   },
   "outputs": [],
   "source": [
    "X = tf.placeholder(tf.float32, [None, 28 * 28])\n",
    "y = tf.placeholder(tf.float32, [None, 10])\n",
    "\n",
    "# Use Xavier initialization\n",
    "initializer = tf.contrib.layers.xavier_initializer()\n",
    "\n",
    "# Three fully connected layers\n",
    "weights1 = tf.Variable(initializer([28 * 28, 256]))\n",
    "biases1 = tf.Variable(initializer([256]))\n",
    "\n",
    "activations1 = tf.nn.relu(tf.matmul(X, weights1) + biases1)\n",
    "\n",
    "weights2 = tf.Variable(initializer([256, 256]))\n",
    "biases2 = tf.Variable(initializer([256]))\n",
    "\n",
    "activations2 = tf.nn.relu(tf.matmul(activations1, weights2) + biases2)\n",
    "\n",
    "weights3 = tf.Variable(initializer([256, 10]))\n",
    "biases3 = tf.Variable(initializer([10]))\n",
    "\n",
    "yhat = tf.nn.softmax(tf.matmul(activations2, weights3) + biases3)\n",
    "\n",
    "# Add L2 regularization\n",
    "reg = tf.reduce_sum(weights1 ** 2) + tf.reduce_sum(weights2 ** 2) + tf.reduce_sum(weights3 ** 2)\n",
    "reg2 = tf.reduce_sum(biases1 ** 2) + tf.reduce_sum(biases3 ** 2) + tf.reduce_sum(biases3 ** 2)\n",
    "\n",
    "cost = tf.reduce_mean(-tf.reduce_sum(y * tf.log(yhat), reduction_indices=1)) + 0.001 * (reg + reg2)\n",
    "\n",
    "optimizer = tf.train.AdamOptimizer(0.0006).minimize(cost, var_list=(weights1, biases1,\n",
    "                                                                           weights2, biases2,\n",
    "                                                                           weights3, biases3))\n",
    "\n",
    "init = tf.global_variables_initializer()"
   ]
  },
  {
   "cell_type": "markdown",
   "metadata": {},
   "source": [
    "### Train neural network model"
   ]
  },
  {
   "cell_type": "code",
   "execution_count": 11,
   "metadata": {},
   "outputs": [
    {
     "name": "stderr",
     "output_type": "stream",
     "text": [
      "/opt/conda/lib/python3.6/site-packages/ipykernel/__main__.py:4: VisibleDeprecationWarning: using a non-integer number instead of an integer will result in an error in the future\n",
      "/opt/conda/lib/python3.6/site-packages/ipykernel/__main__.py:5: VisibleDeprecationWarning: using a non-integer number instead of an integer will result in an error in the future\n",
      "/opt/conda/lib/python3.6/site-packages/ipykernel/__main__.py:26: VisibleDeprecationWarning: using a non-integer number instead of an integer will result in an error in the future\n",
      "/opt/conda/lib/python3.6/site-packages/ipykernel/__main__.py:34: VisibleDeprecationWarning: using a non-integer number instead of an integer will result in an error in the future\n"
     ]
    },
    {
     "name": "stdout",
     "output_type": "stream",
     "text": [
      "Iteration 250 Train cost 0.491984 Test cost 0.494245 Train accuracy 0.95318 Test accuracy 0.9501\n",
      "Iteration 500 Train cost 0.348387 Test cost 0.357101 Train accuracy 0.96986 Test accuracy 0.9646\n",
      "Iteration 750 Train cost 0.281813 Test cost 0.292423 Train accuracy 0.97662 Test accuracy 0.9708\n",
      "Iteration 1000 Train cost 0.24246 Test cost 0.25579 Train accuracy 0.9797 Test accuracy 0.974\n",
      "Iteration 1250 Train cost 0.222494 Test cost 0.241425 Train accuracy 0.98134 Test accuracy 0.9744\n",
      "Iteration 1500 Train cost 0.208421 Test cost 0.226665 Train accuracy 0.98274 Test accuracy 0.9743\n",
      "\n",
      "Test accuracy 0.9743\n"
     ]
    }
   ],
   "source": [
    "n_iter = 1500\n",
    "batch_size = 500\n",
    "\n",
    "train_costs = np.zeros([n_iter / 50])\n",
    "test_costs = np.zeros([n_iter / 50])\n",
    "\n",
    "with tf.Session() as sess:\n",
    "    sess.run(init)\n",
    "    \n",
    "    for i in range(n_iter):\n",
    "        ind = np.random.choice(X_train.shape[0], batch_size)\n",
    "        \n",
    "        sess.run([optimizer, cost],\n",
    "                feed_dict = {\n",
    "                    X: X_train[ind,:],\n",
    "                    y: y_train_1hot[ind]\n",
    "                })\n",
    "    \n",
    "        if ((i + 1) % 50 == 0):\n",
    "            train_cost = sess.run(cost,\n",
    "                    feed_dict = {\n",
    "                        X: X_train,\n",
    "                        y: y_train_1hot\n",
    "                    })\n",
    "\n",
    "            train_costs[(i - 49) / 50] = train_cost\n",
    "\n",
    "            test_cost = sess.run(cost,\n",
    "                    feed_dict = {\n",
    "                        X: X_test,\n",
    "                        y: y_test_1hot\n",
    "                    })\n",
    "\n",
    "            test_costs[(i - 49) / 50] = test_cost\n",
    "        \n",
    "        if (i + 1) % 250 == 0:\n",
    "            \n",
    "            yhat_train = sess.run(yhat,\n",
    "                           feed_dict = {X: X_train})\n",
    "            \n",
    "            yhat_test = sess.run(yhat,\n",
    "                           feed_dict = {X: X_test})\n",
    "            \n",
    "            acc_train = accuracy(yhat_train, y_train)\n",
    "            acc_test = accuracy(yhat_test, y_test)\n",
    "            \n",
    "            print(\"Iteration\", i + 1,\n",
    "                  \"Train cost\", train_cost,\n",
    "                  \"Test cost\", test_cost,\n",
    "                  \"Train accuracy\", acc_train,\n",
    "                  \"Test accuracy\", acc_test)\n",
    "        \n",
    "    print(\"\")\n",
    "    print(\"Test accuracy\", acc_test)"
   ]
  },
  {
   "cell_type": "markdown",
   "metadata": {},
   "source": [
    "### Plot costs"
   ]
  },
  {
   "cell_type": "code",
   "execution_count": 12,
   "metadata": {},
   "outputs": [
    {
     "data": {
      "image/png": "[encoded data removed]",
      "text/plain": [
       "<matplotlib.figure.Figure at 0x7f15e847d860>"
      ]
     },
     "metadata": {},
     "output_type": "display_data"
    }
   ],
   "source": [
    "plt.plot(range(50, n_iter + 50, 50), train_costs, label = \"Training cost\")\n",
    "plt.plot(range(50, n_iter + 50, 50), test_costs, label = \"Test cost\")\n",
    "plt.legend()\n",
    "plt.show()"
   ]
  }
 ],
 "metadata": {
  "kernelspec": {
   "display_name": "Python 3",
   "language": "python",
   "name": "python3"
  },
  "language_info": {
   "codemirror_mode": {
    "name": "ipython",
    "version": 3
   },
   "file_extension": ".py",
   "mimetype": "text/x-python",
   "name": "python",
   "nbconvert_exporter": "python",
   "pygments_lexer": "ipython3",
   "version": "3.6.0"
  }
 },
 "nbformat": 4,
 "nbformat_minor": 2
}
